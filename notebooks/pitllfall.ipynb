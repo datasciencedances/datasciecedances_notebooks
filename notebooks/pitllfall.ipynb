{
 "cells": [
  {
   "cell_type": "markdown",
   "metadata": {},
   "source": [
    "# 10 lỗi sai trong Visualization"
   ]
  },
  {
   "cell_type": "code",
   "execution_count": 2,
   "metadata": {},
   "outputs": [],
   "source": [
    "import pandas as pd\n",
    "import seaborn as sns\n",
    "import matplotlib.pyplot as plt"
   ]
  },
  {
   "cell_type": "code",
   "execution_count": 6,
   "metadata": {},
   "outputs": [],
   "source": [
    "df = pd.read_csv('../data/V02.01.csv', encoding = \"ISO-8859-1\")"
   ]
  },
  {
   "cell_type": "code",
   "execution_count": 8,
   "metadata": {},
   "outputs": [],
   "source": [
    "x = pd.ExcelFile('../data/V02.01.xlsx')"
   ]
  },
  {
   "cell_type": "code",
   "execution_count": 10,
   "metadata": {},
   "outputs": [
    {
     "data": {
      "text/plain": [
       "['V02.01']"
      ]
     },
     "execution_count": 10,
     "metadata": {},
     "output_type": "execute_result"
    }
   ],
   "source": [
    "x.sheet_names"
   ]
  },
  {
   "cell_type": "code",
   "execution_count": 22,
   "metadata": {},
   "outputs": [],
   "source": [
    "df = x.parse('V02.01', skiprows=2).drop([0], axis=0)"
   ]
  },
  {
   "cell_type": "code",
   "execution_count": 24,
   "metadata": {},
   "outputs": [],
   "source": [
    "df.columns = ['Tỉnh', '2011', '2012', '2013', '2014', '2015', '2016', '2017',\n",
    "       '2018', '2019', '2020', '2021', '2022']"
   ]
  },
  {
   "cell_type": "code",
   "execution_count": 25,
   "metadata": {},
   "outputs": [
    {
     "data": {
      "text/plain": [
       "array(['CẢ NƯỚC', 'Đồng bằng sông Hồng', 'Hà Nội', 'Vĩnh Phúc',\n",
       "       'Bắc Ninh', 'Quảng Ninh', 'Hải Dương', 'Hải Phòng', 'Hưng Yên',\n",
       "       'Thái Bình', 'Hà Nam', 'Nam Định', 'Ninh Bình',\n",
       "       'Trung du và miền núi phía Bắc', 'Hà Giang', 'Cao Bằng', 'Bắc Kạn',\n",
       "       'Tuyên Quang', 'Lào Cai', 'Yên Bái', 'Thái Nguyên', 'Lạng Sơn',\n",
       "       'Bắc Giang', 'Phú Thọ', 'Điện Biên', 'Lai Châu', 'Sơn La',\n",
       "       'Hoà Bình', 'Bắc Trung Bộ và Duyên hải miền Trung', 'Thanh Hoá',\n",
       "       'Nghệ An', 'Hà Tĩnh', 'Quảng Bình', 'Quảng Trị', 'Thừa Thiên Huế',\n",
       "       'Đà Nẵng', 'Quảng Nam', 'Quảng Ngãi', 'Bình Định', 'Phú Yên',\n",
       "       'Khánh Hoà', 'Ninh Thuận', 'Bình Thuận', 'Tây Nguyên', 'Kon Tum',\n",
       "       'Gia Lai', 'Đắk Lắk', 'Đắk Nông', 'Lâm Đồng', 'Đông Nam Bộ',\n",
       "       'Bình Phước', 'Tây Ninh', 'Bình Dương', 'Đồng Nai',\n",
       "       'Bà Rịa - Vũng Tàu', 'TP.Hồ Chí Minh', 'Đồng bằng sông Cửu Long',\n",
       "       'Long An', 'Tiền Giang', 'Bến Tre', 'Trà Vinh', 'Vĩnh Long',\n",
       "       'Đồng Tháp', 'An Giang', 'Kiên Giang', 'Cần Thơ', 'Hậu Giang',\n",
       "       'Sóc Trăng', 'Bạc Liêu', 'Cà Mau'], dtype=object)"
      ]
     },
     "execution_count": 25,
     "metadata": {},
     "output_type": "execute_result"
    }
   ],
   "source": [
    "df['Tỉnh'].unique()"
   ]
  },
  {
   "cell_type": "code",
   "execution_count": 26,
   "metadata": {},
   "outputs": [],
   "source": [
    "mapping = {'Đồng bằng sông Hồng': ['Hà Nội', 'Vĩnh Phúc',\n",
    "       'Bắc Ninh', 'Quảng Ninh', 'Hải Dương', 'Hải Phòng', 'Hưng Yên',\n",
    "       'Thái Bình', 'Hà Nam', 'Nam Định', 'Ninh Bình'],\n",
    "       'Trung du và miền núi phía Bắc':['Hà Giang', 'Cao Bằng', 'Bắc Kạn',\n",
    "       'Tuyên Quang', 'Lào Cai', 'Yên Bái', 'Thái Nguyên', 'Lạng Sơn',\n",
    "       'Bắc Giang', 'Phú Thọ', 'Điện Biên', 'Lai Châu', 'Sơn La',\n",
    "       'Hoà Bình'],\n",
    "      'Bắc Trung Bộ và Duyên hải miền Trung': ['Thanh Hoá',\n",
    "       'Nghệ An', 'Hà Tĩnh', 'Quảng Bình', 'Quảng Trị', 'Thừa Thiên Huế',\n",
    "       'Đà Nẵng', 'Quảng Nam', 'Quảng Ngãi', 'Bình Định', 'Phú Yên',\n",
    "       'Khánh Hoà', 'Ninh Thuận', 'Bình Thuận'],\n",
    "       'Tây Nguyên': ['Kon Tum',\n",
    "       'Gia Lai', 'Đắk Lắk', 'Đắk Nông', 'Lâm Đồng'],\n",
    "       'Đông Nam Bộ':[\n",
    "       'Bình Phước', 'Tây Ninh', 'Bình Dương', 'Đồng Nai',\n",
    "       'Bà Rịa - Vũng Tàu', 'TP.Hồ Chí Minh'],\n",
    "       'Đồng bằng sông Cửu Long':[\n",
    "       'Long An', 'Tiền Giang', 'Bến Tre', 'Trà Vinh', 'Vĩnh Long',\n",
    "       'Đồng Tháp', 'An Giang', 'Kiên Giang', 'Cần Thơ', 'Hậu Giang',\n",
    "       'Sóc Trăng', 'Bạc Liêu', 'Cà Mau']\n",
    "       }\n",
    "\n",
    "tinh_to_khu_vuc = {}\n",
    "for k, v in  mapping.items():\n",
    "    for val in v:\n",
    "        tinh_to_khu_vuc[v] = k \n"
   ]
  },
  {
   "cell_type": "code",
   "execution_count": null,
   "metadata": {},
   "outputs": [],
   "source": []
  }
 ],
 "metadata": {
  "kernelspec": {
   "display_name": "all",
   "language": "python",
   "name": "python3"
  },
  "language_info": {
   "codemirror_mode": {
    "name": "ipython",
    "version": 3
   },
   "file_extension": ".py",
   "mimetype": "text/x-python",
   "name": "python",
   "nbconvert_exporter": "python",
   "pygments_lexer": "ipython3",
   "version": "3.11.5"
  }
 },
 "nbformat": 4,
 "nbformat_minor": 2
}
