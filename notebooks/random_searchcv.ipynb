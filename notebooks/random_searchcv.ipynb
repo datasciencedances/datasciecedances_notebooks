{
 "cells": [
  {
   "cell_type": "code",
   "execution_count": 1,
   "metadata": {},
   "outputs": [
    {
     "name": "stdout",
     "output_type": "stream",
     "text": [
      "Train size: (8844, 30), Test size: (2211, 30)\n"
     ]
    }
   ],
   "source": [
    "from sklearn.model_selection import train_test_split, RandomizedSearchCV\n",
    "from ucimlrepo import fetch_ucirepo \n",
    "from sklearn.ensemble import RandomForestClassifier\n",
    "from sklearn.metrics import accuracy_score\n",
    "import numpy as np\n",
    "\n",
    "# fetch dataset \n",
    "phishing_websites = fetch_ucirepo(id=327) \n",
    "  \n",
    "# data (as pandas dataframes) \n",
    "X = phishing_websites.data.features \n",
    "y = phishing_websites.data.targets\n",
    "\n",
    "# Chia tập train và test\n",
    "X_train, X_test, y_train, y_test = train_test_split(X, y, test_size=0.2, random_state=42, stratify=y)\n",
    "\n",
    "print(f\"Train size: {X_train.shape}, Test size: {X_test.shape}\")"
   ]
  },
  {
   "cell_type": "code",
   "execution_count": 2,
   "metadata": {},
   "outputs": [],
   "source": [
    "\n",
    "from scipy.stats import randint, uniform\n",
    "\n",
    "param_distributions = {\n",
    "    'n_estimators': randint(50, 300),\n",
    "    'max_depth': randint(3, 15)\n",
    "}\n"
   ]
  },
  {
   "cell_type": "code",
   "execution_count": 22,
   "metadata": {},
   "outputs": [],
   "source": [
    "from sklearn.model_selection import StratifiedKFold, KFold\n",
    "from sklearn.metrics import accuracy_score\n",
    "from scipy.stats import randint, uniform\n",
    "\n",
    "class RandomizedSearchCV_from_scratch:\n",
    "    def __init__(self, estimator, param_distributions, n_iter=10, cv=5, random_state=None):\n",
    "        self.estimator = estimator  # Mô hình cần tối ưu hóa\n",
    "        self.param_distributions = param_distributions  # Phân phối tham số\n",
    "        self.n_iter = n_iter  # Số lần thử nghiệm\n",
    "        self.cv = cv  # Số fold cho cross-validation\n",
    "        self.random_state = random_state  # Seed cho tái lập\n",
    "\n",
    "        # Thiết lập seed nếu cần\n",
    "        if self.random_state is not None:\n",
    "            np.random.seed(self.random_state)\n",
    "\n",
    "    def sample_params(self):\n",
    "        \"\"\"\n",
    "        Lấy mẫu ngẫu nhiên các tham số từ phân phối đã cho.\n",
    "        \"\"\"\n",
    "        sampled_params = {}\n",
    "        for param, dist in self.param_distributions.items():\n",
    "            sampled_params[param] = dist.rvs()\n",
    "        return sampled_params\n",
    "\n",
    "    def cross_val_score(self, X, y, params):\n",
    "        \"\"\"\n",
    "        Thực hiện cross-validation (StratifiedKFold) để tính điểm cho mô hình với tham số đã cho.\n",
    "        \"\"\"\n",
    "        skf = StratifiedKFold(n_splits=self.cv, shuffle=True, random_state=self.random_state)\n",
    "        scores = []\n",
    "\n",
    "        # Chạy CV\n",
    "        for train_idx, valid_idx in skf.split(X, y):\n",
    "            _X_train, _X_valid = X.iloc[train_idx], X.iloc[valid_idx]\n",
    "            _y_train, _y_valid = y.iloc[train_idx], y.iloc[valid_idx]\n",
    "\n",
    "            # Huấn luyện mô hình với tham số đã chọn\n",
    "            self.estimator.set_params(**params)\n",
    "            self.estimator.fit(_X_train, _y_train)\n",
    "\n",
    "            # Dự đoán và tính điểm accuracy\n",
    "            y_pred = self.estimator.predict(_X_valid)\n",
    "            score = accuracy_score(_y_valid, y_pred)\n",
    "            scores.append(score)\n",
    "\n",
    "        return np.mean(scores), np.std(scores)  # Trả về điểm số trung bình của tất cả các fold\n",
    "\n",
    "    def fit(self, X, y):\n",
    "        \"\"\"\n",
    "        Tiến hành tìm kiếm ngẫu nhiên các tham số và huấn luyện mô hình với Cross-Validation.\n",
    "        \"\"\"\n",
    "        best_score = -np.inf\n",
    "        best_params = None\n",
    "        results = []\n",
    "\n",
    "        for i in range(self.n_iter):\n",
    "            # Lấy mẫu các tham số\n",
    "            sampled_params = self.sample_params()\n",
    "\n",
    "            # Tính điểm cho tham số hiện tại với Cross-Validation\n",
    "            mean_score, std_score = self.cross_val_score(X, y, sampled_params)\n",
    "\n",
    "            results.append({'params': sampled_params, 'mean_score': mean_score, 'std_score': std_score})\n",
    "\n",
    "            # Cập nhật nếu điểm số hiện tại là tốt nhất\n",
    "            if mean_score > best_score:\n",
    "                best_score = mean_score\n",
    "                best_params = sampled_params\n",
    "\n",
    "        # Lưu kết quả và trả về tham số tốt nhất\n",
    "        self.results_ = results\n",
    "        self.best_score_ = best_score\n",
    "        self.best_params_ = best_params"
   ]
  },
  {
   "cell_type": "code",
   "execution_count": 23,
   "metadata": {},
   "outputs": [],
   "source": [
    "rf = RandomForestClassifier(random_state=42)"
   ]
  },
  {
   "cell_type": "code",
   "execution_count": null,
   "metadata": {},
   "outputs": [
    {
     "name": "stderr",
     "output_type": "stream",
     "text": [
      "C:\\Users\\ADMIN\\AppData\\Roaming\\Python\\Python312\\site-packages\\sklearn\\base.py:1389: DataConversionWarning: A column-vector y was passed when a 1d array was expected. Please change the shape of y to (n_samples,), for example using ravel().\n",
      "  return fit_method(estimator, *args, **kwargs)\n",
      "C:\\Users\\ADMIN\\AppData\\Roaming\\Python\\Python312\\site-packages\\sklearn\\base.py:1389: DataConversionWarning: A column-vector y was passed when a 1d array was expected. Please change the shape of y to (n_samples,), for example using ravel().\n",
      "  return fit_method(estimator, *args, **kwargs)\n",
      "C:\\Users\\ADMIN\\AppData\\Roaming\\Python\\Python312\\site-packages\\sklearn\\base.py:1389: DataConversionWarning: A column-vector y was passed when a 1d array was expected. Please change the shape of y to (n_samples,), for example using ravel().\n",
      "  return fit_method(estimator, *args, **kwargs)\n",
      "C:\\Users\\ADMIN\\AppData\\Roaming\\Python\\Python312\\site-packages\\sklearn\\base.py:1389: DataConversionWarning: A column-vector y was passed when a 1d array was expected. Please change the shape of y to (n_samples,), for example using ravel().\n",
      "  return fit_method(estimator, *args, **kwargs)\n",
      "C:\\Users\\ADMIN\\AppData\\Roaming\\Python\\Python312\\site-packages\\sklearn\\base.py:1389: DataConversionWarning: A column-vector y was passed when a 1d array was expected. Please change the shape of y to (n_samples,), for example using ravel().\n",
      "  return fit_method(estimator, *args, **kwargs)\n",
      "C:\\Users\\ADMIN\\AppData\\Roaming\\Python\\Python312\\site-packages\\sklearn\\base.py:1389: DataConversionWarning: A column-vector y was passed when a 1d array was expected. Please change the shape of y to (n_samples,), for example using ravel().\n",
      "  return fit_method(estimator, *args, **kwargs)\n",
      "C:\\Users\\ADMIN\\AppData\\Roaming\\Python\\Python312\\site-packages\\sklearn\\base.py:1389: DataConversionWarning: A column-vector y was passed when a 1d array was expected. Please change the shape of y to (n_samples,), for example using ravel().\n",
      "  return fit_method(estimator, *args, **kwargs)\n",
      "C:\\Users\\ADMIN\\AppData\\Roaming\\Python\\Python312\\site-packages\\sklearn\\base.py:1389: DataConversionWarning: A column-vector y was passed when a 1d array was expected. Please change the shape of y to (n_samples,), for example using ravel().\n",
      "  return fit_method(estimator, *args, **kwargs)\n",
      "C:\\Users\\ADMIN\\AppData\\Roaming\\Python\\Python312\\site-packages\\sklearn\\base.py:1389: DataConversionWarning: A column-vector y was passed when a 1d array was expected. Please change the shape of y to (n_samples,), for example using ravel().\n",
      "  return fit_method(estimator, *args, **kwargs)\n",
      "C:\\Users\\ADMIN\\AppData\\Roaming\\Python\\Python312\\site-packages\\sklearn\\base.py:1389: DataConversionWarning: A column-vector y was passed when a 1d array was expected. Please change the shape of y to (n_samples,), for example using ravel().\n",
      "  return fit_method(estimator, *args, **kwargs)\n",
      "C:\\Users\\ADMIN\\AppData\\Roaming\\Python\\Python312\\site-packages\\sklearn\\base.py:1389: DataConversionWarning: A column-vector y was passed when a 1d array was expected. Please change the shape of y to (n_samples,), for example using ravel().\n",
      "  return fit_method(estimator, *args, **kwargs)\n",
      "C:\\Users\\ADMIN\\AppData\\Roaming\\Python\\Python312\\site-packages\\sklearn\\base.py:1389: DataConversionWarning: A column-vector y was passed when a 1d array was expected. Please change the shape of y to (n_samples,), for example using ravel().\n",
      "  return fit_method(estimator, *args, **kwargs)\n",
      "C:\\Users\\ADMIN\\AppData\\Roaming\\Python\\Python312\\site-packages\\sklearn\\base.py:1389: DataConversionWarning: A column-vector y was passed when a 1d array was expected. Please change the shape of y to (n_samples,), for example using ravel().\n",
      "  return fit_method(estimator, *args, **kwargs)\n",
      "C:\\Users\\ADMIN\\AppData\\Roaming\\Python\\Python312\\site-packages\\sklearn\\base.py:1389: DataConversionWarning: A column-vector y was passed when a 1d array was expected. Please change the shape of y to (n_samples,), for example using ravel().\n",
      "  return fit_method(estimator, *args, **kwargs)\n",
      "C:\\Users\\ADMIN\\AppData\\Roaming\\Python\\Python312\\site-packages\\sklearn\\base.py:1389: DataConversionWarning: A column-vector y was passed when a 1d array was expected. Please change the shape of y to (n_samples,), for example using ravel().\n",
      "  return fit_method(estimator, *args, **kwargs)\n",
      "C:\\Users\\ADMIN\\AppData\\Roaming\\Python\\Python312\\site-packages\\sklearn\\base.py:1389: DataConversionWarning: A column-vector y was passed when a 1d array was expected. Please change the shape of y to (n_samples,), for example using ravel().\n",
      "  return fit_method(estimator, *args, **kwargs)\n",
      "C:\\Users\\ADMIN\\AppData\\Roaming\\Python\\Python312\\site-packages\\sklearn\\base.py:1389: DataConversionWarning: A column-vector y was passed when a 1d array was expected. Please change the shape of y to (n_samples,), for example using ravel().\n",
      "  return fit_method(estimator, *args, **kwargs)\n",
      "C:\\Users\\ADMIN\\AppData\\Roaming\\Python\\Python312\\site-packages\\sklearn\\base.py:1389: DataConversionWarning: A column-vector y was passed when a 1d array was expected. Please change the shape of y to (n_samples,), for example using ravel().\n",
      "  return fit_method(estimator, *args, **kwargs)\n",
      "C:\\Users\\ADMIN\\AppData\\Roaming\\Python\\Python312\\site-packages\\sklearn\\base.py:1389: DataConversionWarning: A column-vector y was passed when a 1d array was expected. Please change the shape of y to (n_samples,), for example using ravel().\n",
      "  return fit_method(estimator, *args, **kwargs)\n",
      "C:\\Users\\ADMIN\\AppData\\Roaming\\Python\\Python312\\site-packages\\sklearn\\base.py:1389: DataConversionWarning: A column-vector y was passed when a 1d array was expected. Please change the shape of y to (n_samples,), for example using ravel().\n",
      "  return fit_method(estimator, *args, **kwargs)\n",
      "C:\\Users\\ADMIN\\AppData\\Roaming\\Python\\Python312\\site-packages\\sklearn\\base.py:1389: DataConversionWarning: A column-vector y was passed when a 1d array was expected. Please change the shape of y to (n_samples,), for example using ravel().\n",
      "  return fit_method(estimator, *args, **kwargs)\n",
      "C:\\Users\\ADMIN\\AppData\\Roaming\\Python\\Python312\\site-packages\\sklearn\\base.py:1389: DataConversionWarning: A column-vector y was passed when a 1d array was expected. Please change the shape of y to (n_samples,), for example using ravel().\n",
      "  return fit_method(estimator, *args, **kwargs)\n",
      "C:\\Users\\ADMIN\\AppData\\Roaming\\Python\\Python312\\site-packages\\sklearn\\base.py:1389: DataConversionWarning: A column-vector y was passed when a 1d array was expected. Please change the shape of y to (n_samples,), for example using ravel().\n",
      "  return fit_method(estimator, *args, **kwargs)\n",
      "C:\\Users\\ADMIN\\AppData\\Roaming\\Python\\Python312\\site-packages\\sklearn\\base.py:1389: DataConversionWarning: A column-vector y was passed when a 1d array was expected. Please change the shape of y to (n_samples,), for example using ravel().\n",
      "  return fit_method(estimator, *args, **kwargs)\n",
      "C:\\Users\\ADMIN\\AppData\\Roaming\\Python\\Python312\\site-packages\\sklearn\\base.py:1389: DataConversionWarning: A column-vector y was passed when a 1d array was expected. Please change the shape of y to (n_samples,), for example using ravel().\n",
      "  return fit_method(estimator, *args, **kwargs)\n",
      "C:\\Users\\ADMIN\\AppData\\Roaming\\Python\\Python312\\site-packages\\sklearn\\base.py:1389: DataConversionWarning: A column-vector y was passed when a 1d array was expected. Please change the shape of y to (n_samples,), for example using ravel().\n",
      "  return fit_method(estimator, *args, **kwargs)\n",
      "C:\\Users\\ADMIN\\AppData\\Roaming\\Python\\Python312\\site-packages\\sklearn\\base.py:1389: DataConversionWarning: A column-vector y was passed when a 1d array was expected. Please change the shape of y to (n_samples,), for example using ravel().\n",
      "  return fit_method(estimator, *args, **kwargs)\n",
      "C:\\Users\\ADMIN\\AppData\\Roaming\\Python\\Python312\\site-packages\\sklearn\\base.py:1389: DataConversionWarning: A column-vector y was passed when a 1d array was expected. Please change the shape of y to (n_samples,), for example using ravel().\n",
      "  return fit_method(estimator, *args, **kwargs)\n",
      "C:\\Users\\ADMIN\\AppData\\Roaming\\Python\\Python312\\site-packages\\sklearn\\base.py:1389: DataConversionWarning: A column-vector y was passed when a 1d array was expected. Please change the shape of y to (n_samples,), for example using ravel().\n",
      "  return fit_method(estimator, *args, **kwargs)\n",
      "C:\\Users\\ADMIN\\AppData\\Roaming\\Python\\Python312\\site-packages\\sklearn\\base.py:1389: DataConversionWarning: A column-vector y was passed when a 1d array was expected. Please change the shape of y to (n_samples,), for example using ravel().\n",
      "  return fit_method(estimator, *args, **kwargs)\n",
      "C:\\Users\\ADMIN\\AppData\\Roaming\\Python\\Python312\\site-packages\\sklearn\\base.py:1389: DataConversionWarning: A column-vector y was passed when a 1d array was expected. Please change the shape of y to (n_samples,), for example using ravel().\n",
      "  return fit_method(estimator, *args, **kwargs)\n",
      "C:\\Users\\ADMIN\\AppData\\Roaming\\Python\\Python312\\site-packages\\sklearn\\base.py:1389: DataConversionWarning: A column-vector y was passed when a 1d array was expected. Please change the shape of y to (n_samples,), for example using ravel().\n",
      "  return fit_method(estimator, *args, **kwargs)\n",
      "C:\\Users\\ADMIN\\AppData\\Roaming\\Python\\Python312\\site-packages\\sklearn\\base.py:1389: DataConversionWarning: A column-vector y was passed when a 1d array was expected. Please change the shape of y to (n_samples,), for example using ravel().\n",
      "  return fit_method(estimator, *args, **kwargs)\n",
      "C:\\Users\\ADMIN\\AppData\\Roaming\\Python\\Python312\\site-packages\\sklearn\\base.py:1389: DataConversionWarning: A column-vector y was passed when a 1d array was expected. Please change the shape of y to (n_samples,), for example using ravel().\n",
      "  return fit_method(estimator, *args, **kwargs)\n",
      "C:\\Users\\ADMIN\\AppData\\Roaming\\Python\\Python312\\site-packages\\sklearn\\base.py:1389: DataConversionWarning: A column-vector y was passed when a 1d array was expected. Please change the shape of y to (n_samples,), for example using ravel().\n",
      "  return fit_method(estimator, *args, **kwargs)\n",
      "C:\\Users\\ADMIN\\AppData\\Roaming\\Python\\Python312\\site-packages\\sklearn\\base.py:1389: DataConversionWarning: A column-vector y was passed when a 1d array was expected. Please change the shape of y to (n_samples,), for example using ravel().\n",
      "  return fit_method(estimator, *args, **kwargs)\n",
      "C:\\Users\\ADMIN\\AppData\\Roaming\\Python\\Python312\\site-packages\\sklearn\\base.py:1389: DataConversionWarning: A column-vector y was passed when a 1d array was expected. Please change the shape of y to (n_samples,), for example using ravel().\n",
      "  return fit_method(estimator, *args, **kwargs)\n",
      "C:\\Users\\ADMIN\\AppData\\Roaming\\Python\\Python312\\site-packages\\sklearn\\base.py:1389: DataConversionWarning: A column-vector y was passed when a 1d array was expected. Please change the shape of y to (n_samples,), for example using ravel().\n",
      "  return fit_method(estimator, *args, **kwargs)\n",
      "C:\\Users\\ADMIN\\AppData\\Roaming\\Python\\Python312\\site-packages\\sklearn\\base.py:1389: DataConversionWarning: A column-vector y was passed when a 1d array was expected. Please change the shape of y to (n_samples,), for example using ravel().\n",
      "  return fit_method(estimator, *args, **kwargs)\n",
      "C:\\Users\\ADMIN\\AppData\\Roaming\\Python\\Python312\\site-packages\\sklearn\\base.py:1389: DataConversionWarning: A column-vector y was passed when a 1d array was expected. Please change the shape of y to (n_samples,), for example using ravel().\n",
      "  return fit_method(estimator, *args, **kwargs)\n",
      "C:\\Users\\ADMIN\\AppData\\Roaming\\Python\\Python312\\site-packages\\sklearn\\base.py:1389: DataConversionWarning: A column-vector y was passed when a 1d array was expected. Please change the shape of y to (n_samples,), for example using ravel().\n",
      "  return fit_method(estimator, *args, **kwargs)\n",
      "C:\\Users\\ADMIN\\AppData\\Roaming\\Python\\Python312\\site-packages\\sklearn\\base.py:1389: DataConversionWarning: A column-vector y was passed when a 1d array was expected. Please change the shape of y to (n_samples,), for example using ravel().\n",
      "  return fit_method(estimator, *args, **kwargs)\n",
      "C:\\Users\\ADMIN\\AppData\\Roaming\\Python\\Python312\\site-packages\\sklearn\\base.py:1389: DataConversionWarning: A column-vector y was passed when a 1d array was expected. Please change the shape of y to (n_samples,), for example using ravel().\n",
      "  return fit_method(estimator, *args, **kwargs)\n",
      "C:\\Users\\ADMIN\\AppData\\Roaming\\Python\\Python312\\site-packages\\sklearn\\base.py:1389: DataConversionWarning: A column-vector y was passed when a 1d array was expected. Please change the shape of y to (n_samples,), for example using ravel().\n",
      "  return fit_method(estimator, *args, **kwargs)\n",
      "C:\\Users\\ADMIN\\AppData\\Roaming\\Python\\Python312\\site-packages\\sklearn\\base.py:1389: DataConversionWarning: A column-vector y was passed when a 1d array was expected. Please change the shape of y to (n_samples,), for example using ravel().\n",
      "  return fit_method(estimator, *args, **kwargs)\n",
      "C:\\Users\\ADMIN\\AppData\\Roaming\\Python\\Python312\\site-packages\\sklearn\\base.py:1389: DataConversionWarning: A column-vector y was passed when a 1d array was expected. Please change the shape of y to (n_samples,), for example using ravel().\n",
      "  return fit_method(estimator, *args, **kwargs)\n",
      "C:\\Users\\ADMIN\\AppData\\Roaming\\Python\\Python312\\site-packages\\sklearn\\base.py:1389: DataConversionWarning: A column-vector y was passed when a 1d array was expected. Please change the shape of y to (n_samples,), for example using ravel().\n",
      "  return fit_method(estimator, *args, **kwargs)\n",
      "C:\\Users\\ADMIN\\AppData\\Roaming\\Python\\Python312\\site-packages\\sklearn\\base.py:1389: DataConversionWarning: A column-vector y was passed when a 1d array was expected. Please change the shape of y to (n_samples,), for example using ravel().\n",
      "  return fit_method(estimator, *args, **kwargs)\n",
      "C:\\Users\\ADMIN\\AppData\\Roaming\\Python\\Python312\\site-packages\\sklearn\\base.py:1389: DataConversionWarning: A column-vector y was passed when a 1d array was expected. Please change the shape of y to (n_samples,), for example using ravel().\n",
      "  return fit_method(estimator, *args, **kwargs)\n",
      "C:\\Users\\ADMIN\\AppData\\Roaming\\Python\\Python312\\site-packages\\sklearn\\base.py:1389: DataConversionWarning: A column-vector y was passed when a 1d array was expected. Please change the shape of y to (n_samples,), for example using ravel().\n",
      "  return fit_method(estimator, *args, **kwargs)\n"
     ]
    }
   ],
   "source": [
    "rf = RandomForestClassifier(random_state=42)\n",
    "search = RandomizedSearchCV_from_scratch(rf, param_distributions, n_iter=10, cv=5, random_state=42)\n",
    "search.fit(X_train, y_train)"
   ]
  },
  {
   "cell_type": "code",
   "execution_count": 25,
   "metadata": {},
   "outputs": [
    {
     "data": {
      "text/plain": [
       "[{'params': {'n_estimators': 152, 'max_depth': 6},\n",
       "  'mean_score': np.float64(0.9337398228413425),\n",
       "  'std_score': np.float64(0.005562064595556827)},\n",
       " {'params': {'n_estimators': 142, 'max_depth': 13},\n",
       "  'mean_score': np.float64(0.9614432445152692),\n",
       "  'std_score': np.float64(0.0032797031601484255)},\n",
       " {'params': {'n_estimators': 121, 'max_depth': 7},\n",
       "  'mean_score': np.float64(0.9362274235258307),\n",
       "  'std_score': np.float64(0.0032954692818318917)},\n",
       " {'params': {'n_estimators': 152, 'max_depth': 12},\n",
       "  'mean_score': np.float64(0.9601992843056255),\n",
       "  'std_score': np.float64(0.003000547059202927)},\n",
       " {'params': {'n_estimators': 260, 'max_depth': 9},\n",
       "  'mean_score': np.float64(0.946969937255243),\n",
       "  'std_score': np.float64(0.003280785232637579)},\n",
       " {'params': {'n_estimators': 124, 'max_depth': 13},\n",
       "  'mean_score': np.float64(0.9608778254964202),\n",
       "  'std_score': np.float64(0.002995073924076509)},\n",
       " {'params': {'n_estimators': 137, 'max_depth': 7},\n",
       "  'mean_score': np.float64(0.9369059007696656),\n",
       "  'std_score': np.float64(0.0031595655596408823)},\n",
       " {'params': {'n_estimators': 149, 'max_depth': 10},\n",
       "  'mean_score': np.float64(0.9514931615121155),\n",
       "  'std_score': np.float64(0.00452203888505248)},\n",
       " {'params': {'n_estimators': 201, 'max_depth': 5},\n",
       "  'mean_score': np.float64(0.9306874426076035),\n",
       "  'std_score': np.float64(0.004488707183069916)},\n",
       " {'params': {'n_estimators': 199, 'max_depth': 7},\n",
       "  'mean_score': np.float64(0.9378106223573919),\n",
       "  'std_score': np.float64(0.0033790400495528968)}]"
      ]
     },
     "execution_count": 25,
     "metadata": {},
     "output_type": "execute_result"
    }
   ],
   "source": [
    "results = search.results_\n",
    "results"
   ]
  },
  {
   "cell_type": "code",
   "execution_count": 26,
   "metadata": {},
   "outputs": [],
   "source": [
    "results = search.results_\n",
    "# Tạo DataFrame từ list các kết quả\n",
    "import pandas as pd\n",
    "df = pd.DataFrame(results)\n",
    "params_df = pd.DataFrame(df['params'].tolist())\n",
    "final_df = pd.concat([params_df, df[['mean_score','std_score']]], axis=1).sort_values(by='mean_score', ascending=False)\n",
    "final_df.reset_index(drop=True, inplace=True)"
   ]
  },
  {
   "cell_type": "code",
   "execution_count": 27,
   "metadata": {},
   "outputs": [
    {
     "name": "stdout",
     "output_type": "stream",
     "text": [
      "   n_estimators  max_depth  mean_score  std_score\n",
      "0           142         13    0.961443   0.003280\n",
      "1           124         13    0.960878   0.002995\n",
      "2           152         12    0.960199   0.003001\n",
      "3           149         10    0.951493   0.004522\n",
      "4           260          9    0.946970   0.003281\n",
      "5           199          7    0.937811   0.003379\n",
      "6           137          7    0.936906   0.003160\n",
      "7           121          7    0.936227   0.003295\n",
      "8           152          6    0.933740   0.005562\n",
      "9           201          5    0.930687   0.004489\n"
     ]
    }
   ],
   "source": [
    "print(final_df)"
   ]
  },
  {
   "cell_type": "code",
   "execution_count": 41,
   "metadata": {},
   "outputs": [
    {
     "name": "stderr",
     "output_type": "stream",
     "text": [
      "C:\\Users\\ADMIN\\AppData\\Roaming\\Python\\Python312\\site-packages\\sklearn\\base.py:1389: DataConversionWarning: A column-vector y was passed when a 1d array was expected. Please change the shape of y to (n_samples,), for example using ravel().\n",
      "  return fit_method(estimator, *args, **kwargs)\n"
     ]
    },
    {
     "name": "stdout",
     "output_type": "stream",
     "text": [
      "Test accuracy 0.9638172772501131\n"
     ]
    }
   ],
   "source": [
    "model = RandomForestClassifier(random_state=42)\n",
    "model.set_params(**search.best_params_)\n",
    "model.fit(X_train, y_train)\n",
    "y_pred = model.predict(X_test)\n",
    "print(\"Test accuracy\", accuracy_score(y_test, y_pred))"
   ]
  },
  {
   "cell_type": "code",
   "execution_count": 38,
   "metadata": {},
   "outputs": [
    {
     "name": "stderr",
     "output_type": "stream",
     "text": [
      "C:\\Users\\ADMIN\\AppData\\Roaming\\Python\\Python312\\site-packages\\sklearn\\base.py:1389: DataConversionWarning: A column-vector y was passed when a 1d array was expected. Please change the shape of y to (n_samples,), for example using ravel().\n",
      "  return fit_method(estimator, *args, **kwargs)\n",
      "C:\\Users\\ADMIN\\AppData\\Roaming\\Python\\Python312\\site-packages\\sklearn\\base.py:1389: DataConversionWarning: A column-vector y was passed when a 1d array was expected. Please change the shape of y to (n_samples,), for example using ravel().\n",
      "  return fit_method(estimator, *args, **kwargs)\n",
      "C:\\Users\\ADMIN\\AppData\\Roaming\\Python\\Python312\\site-packages\\sklearn\\base.py:1389: DataConversionWarning: A column-vector y was passed when a 1d array was expected. Please change the shape of y to (n_samples,), for example using ravel().\n",
      "  return fit_method(estimator, *args, **kwargs)\n",
      "C:\\Users\\ADMIN\\AppData\\Roaming\\Python\\Python312\\site-packages\\sklearn\\base.py:1389: DataConversionWarning: A column-vector y was passed when a 1d array was expected. Please change the shape of y to (n_samples,), for example using ravel().\n",
      "  return fit_method(estimator, *args, **kwargs)\n",
      "C:\\Users\\ADMIN\\AppData\\Roaming\\Python\\Python312\\site-packages\\sklearn\\base.py:1389: DataConversionWarning: A column-vector y was passed when a 1d array was expected. Please change the shape of y to (n_samples,), for example using ravel().\n",
      "  return fit_method(estimator, *args, **kwargs)\n",
      "C:\\Users\\ADMIN\\AppData\\Roaming\\Python\\Python312\\site-packages\\sklearn\\base.py:1389: DataConversionWarning: A column-vector y was passed when a 1d array was expected. Please change the shape of y to (n_samples,), for example using ravel().\n",
      "  return fit_method(estimator, *args, **kwargs)\n",
      "C:\\Users\\ADMIN\\AppData\\Roaming\\Python\\Python312\\site-packages\\sklearn\\base.py:1389: DataConversionWarning: A column-vector y was passed when a 1d array was expected. Please change the shape of y to (n_samples,), for example using ravel().\n",
      "  return fit_method(estimator, *args, **kwargs)\n",
      "C:\\Users\\ADMIN\\AppData\\Roaming\\Python\\Python312\\site-packages\\sklearn\\base.py:1389: DataConversionWarning: A column-vector y was passed when a 1d array was expected. Please change the shape of y to (n_samples,), for example using ravel().\n",
      "  return fit_method(estimator, *args, **kwargs)\n",
      "C:\\Users\\ADMIN\\AppData\\Roaming\\Python\\Python312\\site-packages\\sklearn\\base.py:1389: DataConversionWarning: A column-vector y was passed when a 1d array was expected. Please change the shape of y to (n_samples,), for example using ravel().\n",
      "  return fit_method(estimator, *args, **kwargs)\n",
      "C:\\Users\\ADMIN\\AppData\\Roaming\\Python\\Python312\\site-packages\\sklearn\\base.py:1389: DataConversionWarning: A column-vector y was passed when a 1d array was expected. Please change the shape of y to (n_samples,), for example using ravel().\n",
      "  return fit_method(estimator, *args, **kwargs)\n",
      "C:\\Users\\ADMIN\\AppData\\Roaming\\Python\\Python312\\site-packages\\sklearn\\base.py:1389: DataConversionWarning: A column-vector y was passed when a 1d array was expected. Please change the shape of y to (n_samples,), for example using ravel().\n",
      "  return fit_method(estimator, *args, **kwargs)\n",
      "C:\\Users\\ADMIN\\AppData\\Roaming\\Python\\Python312\\site-packages\\sklearn\\base.py:1389: DataConversionWarning: A column-vector y was passed when a 1d array was expected. Please change the shape of y to (n_samples,), for example using ravel().\n",
      "  return fit_method(estimator, *args, **kwargs)\n",
      "C:\\Users\\ADMIN\\AppData\\Roaming\\Python\\Python312\\site-packages\\sklearn\\base.py:1389: DataConversionWarning: A column-vector y was passed when a 1d array was expected. Please change the shape of y to (n_samples,), for example using ravel().\n",
      "  return fit_method(estimator, *args, **kwargs)\n",
      "C:\\Users\\ADMIN\\AppData\\Roaming\\Python\\Python312\\site-packages\\sklearn\\base.py:1389: DataConversionWarning: A column-vector y was passed when a 1d array was expected. Please change the shape of y to (n_samples,), for example using ravel().\n",
      "  return fit_method(estimator, *args, **kwargs)\n",
      "C:\\Users\\ADMIN\\AppData\\Roaming\\Python\\Python312\\site-packages\\sklearn\\base.py:1389: DataConversionWarning: A column-vector y was passed when a 1d array was expected. Please change the shape of y to (n_samples,), for example using ravel().\n",
      "  return fit_method(estimator, *args, **kwargs)\n",
      "C:\\Users\\ADMIN\\AppData\\Roaming\\Python\\Python312\\site-packages\\sklearn\\base.py:1389: DataConversionWarning: A column-vector y was passed when a 1d array was expected. Please change the shape of y to (n_samples,), for example using ravel().\n",
      "  return fit_method(estimator, *args, **kwargs)\n",
      "C:\\Users\\ADMIN\\AppData\\Roaming\\Python\\Python312\\site-packages\\sklearn\\base.py:1389: DataConversionWarning: A column-vector y was passed when a 1d array was expected. Please change the shape of y to (n_samples,), for example using ravel().\n",
      "  return fit_method(estimator, *args, **kwargs)\n",
      "C:\\Users\\ADMIN\\AppData\\Roaming\\Python\\Python312\\site-packages\\sklearn\\base.py:1389: DataConversionWarning: A column-vector y was passed when a 1d array was expected. Please change the shape of y to (n_samples,), for example using ravel().\n",
      "  return fit_method(estimator, *args, **kwargs)\n",
      "C:\\Users\\ADMIN\\AppData\\Roaming\\Python\\Python312\\site-packages\\sklearn\\base.py:1389: DataConversionWarning: A column-vector y was passed when a 1d array was expected. Please change the shape of y to (n_samples,), for example using ravel().\n",
      "  return fit_method(estimator, *args, **kwargs)\n",
      "C:\\Users\\ADMIN\\AppData\\Roaming\\Python\\Python312\\site-packages\\sklearn\\base.py:1389: DataConversionWarning: A column-vector y was passed when a 1d array was expected. Please change the shape of y to (n_samples,), for example using ravel().\n",
      "  return fit_method(estimator, *args, **kwargs)\n",
      "C:\\Users\\ADMIN\\AppData\\Roaming\\Python\\Python312\\site-packages\\sklearn\\base.py:1389: DataConversionWarning: A column-vector y was passed when a 1d array was expected. Please change the shape of y to (n_samples,), for example using ravel().\n",
      "  return fit_method(estimator, *args, **kwargs)\n",
      "C:\\Users\\ADMIN\\AppData\\Roaming\\Python\\Python312\\site-packages\\sklearn\\base.py:1389: DataConversionWarning: A column-vector y was passed when a 1d array was expected. Please change the shape of y to (n_samples,), for example using ravel().\n",
      "  return fit_method(estimator, *args, **kwargs)\n",
      "C:\\Users\\ADMIN\\AppData\\Roaming\\Python\\Python312\\site-packages\\sklearn\\base.py:1389: DataConversionWarning: A column-vector y was passed when a 1d array was expected. Please change the shape of y to (n_samples,), for example using ravel().\n",
      "  return fit_method(estimator, *args, **kwargs)\n",
      "C:\\Users\\ADMIN\\AppData\\Roaming\\Python\\Python312\\site-packages\\sklearn\\base.py:1389: DataConversionWarning: A column-vector y was passed when a 1d array was expected. Please change the shape of y to (n_samples,), for example using ravel().\n",
      "  return fit_method(estimator, *args, **kwargs)\n",
      "C:\\Users\\ADMIN\\AppData\\Roaming\\Python\\Python312\\site-packages\\sklearn\\base.py:1389: DataConversionWarning: A column-vector y was passed when a 1d array was expected. Please change the shape of y to (n_samples,), for example using ravel().\n",
      "  return fit_method(estimator, *args, **kwargs)\n",
      "C:\\Users\\ADMIN\\AppData\\Roaming\\Python\\Python312\\site-packages\\sklearn\\base.py:1389: DataConversionWarning: A column-vector y was passed when a 1d array was expected. Please change the shape of y to (n_samples,), for example using ravel().\n",
      "  return fit_method(estimator, *args, **kwargs)\n",
      "C:\\Users\\ADMIN\\AppData\\Roaming\\Python\\Python312\\site-packages\\sklearn\\base.py:1389: DataConversionWarning: A column-vector y was passed when a 1d array was expected. Please change the shape of y to (n_samples,), for example using ravel().\n",
      "  return fit_method(estimator, *args, **kwargs)\n",
      "C:\\Users\\ADMIN\\AppData\\Roaming\\Python\\Python312\\site-packages\\sklearn\\base.py:1389: DataConversionWarning: A column-vector y was passed when a 1d array was expected. Please change the shape of y to (n_samples,), for example using ravel().\n",
      "  return fit_method(estimator, *args, **kwargs)\n",
      "C:\\Users\\ADMIN\\AppData\\Roaming\\Python\\Python312\\site-packages\\sklearn\\base.py:1389: DataConversionWarning: A column-vector y was passed when a 1d array was expected. Please change the shape of y to (n_samples,), for example using ravel().\n",
      "  return fit_method(estimator, *args, **kwargs)\n",
      "C:\\Users\\ADMIN\\AppData\\Roaming\\Python\\Python312\\site-packages\\sklearn\\base.py:1389: DataConversionWarning: A column-vector y was passed when a 1d array was expected. Please change the shape of y to (n_samples,), for example using ravel().\n",
      "  return fit_method(estimator, *args, **kwargs)\n",
      "C:\\Users\\ADMIN\\AppData\\Roaming\\Python\\Python312\\site-packages\\sklearn\\base.py:1389: DataConversionWarning: A column-vector y was passed when a 1d array was expected. Please change the shape of y to (n_samples,), for example using ravel().\n",
      "  return fit_method(estimator, *args, **kwargs)\n",
      "C:\\Users\\ADMIN\\AppData\\Roaming\\Python\\Python312\\site-packages\\sklearn\\base.py:1389: DataConversionWarning: A column-vector y was passed when a 1d array was expected. Please change the shape of y to (n_samples,), for example using ravel().\n",
      "  return fit_method(estimator, *args, **kwargs)\n",
      "C:\\Users\\ADMIN\\AppData\\Roaming\\Python\\Python312\\site-packages\\sklearn\\base.py:1389: DataConversionWarning: A column-vector y was passed when a 1d array was expected. Please change the shape of y to (n_samples,), for example using ravel().\n",
      "  return fit_method(estimator, *args, **kwargs)\n",
      "C:\\Users\\ADMIN\\AppData\\Roaming\\Python\\Python312\\site-packages\\sklearn\\base.py:1389: DataConversionWarning: A column-vector y was passed when a 1d array was expected. Please change the shape of y to (n_samples,), for example using ravel().\n",
      "  return fit_method(estimator, *args, **kwargs)\n",
      "C:\\Users\\ADMIN\\AppData\\Roaming\\Python\\Python312\\site-packages\\sklearn\\base.py:1389: DataConversionWarning: A column-vector y was passed when a 1d array was expected. Please change the shape of y to (n_samples,), for example using ravel().\n",
      "  return fit_method(estimator, *args, **kwargs)\n",
      "C:\\Users\\ADMIN\\AppData\\Roaming\\Python\\Python312\\site-packages\\sklearn\\base.py:1389: DataConversionWarning: A column-vector y was passed when a 1d array was expected. Please change the shape of y to (n_samples,), for example using ravel().\n",
      "  return fit_method(estimator, *args, **kwargs)\n",
      "C:\\Users\\ADMIN\\AppData\\Roaming\\Python\\Python312\\site-packages\\sklearn\\base.py:1389: DataConversionWarning: A column-vector y was passed when a 1d array was expected. Please change the shape of y to (n_samples,), for example using ravel().\n",
      "  return fit_method(estimator, *args, **kwargs)\n",
      "C:\\Users\\ADMIN\\AppData\\Roaming\\Python\\Python312\\site-packages\\sklearn\\base.py:1389: DataConversionWarning: A column-vector y was passed when a 1d array was expected. Please change the shape of y to (n_samples,), for example using ravel().\n",
      "  return fit_method(estimator, *args, **kwargs)\n",
      "C:\\Users\\ADMIN\\AppData\\Roaming\\Python\\Python312\\site-packages\\sklearn\\base.py:1389: DataConversionWarning: A column-vector y was passed when a 1d array was expected. Please change the shape of y to (n_samples,), for example using ravel().\n",
      "  return fit_method(estimator, *args, **kwargs)\n",
      "C:\\Users\\ADMIN\\AppData\\Roaming\\Python\\Python312\\site-packages\\sklearn\\base.py:1389: DataConversionWarning: A column-vector y was passed when a 1d array was expected. Please change the shape of y to (n_samples,), for example using ravel().\n",
      "  return fit_method(estimator, *args, **kwargs)\n",
      "C:\\Users\\ADMIN\\AppData\\Roaming\\Python\\Python312\\site-packages\\sklearn\\base.py:1389: DataConversionWarning: A column-vector y was passed when a 1d array was expected. Please change the shape of y to (n_samples,), for example using ravel().\n",
      "  return fit_method(estimator, *args, **kwargs)\n",
      "C:\\Users\\ADMIN\\AppData\\Roaming\\Python\\Python312\\site-packages\\sklearn\\base.py:1389: DataConversionWarning: A column-vector y was passed when a 1d array was expected. Please change the shape of y to (n_samples,), for example using ravel().\n",
      "  return fit_method(estimator, *args, **kwargs)\n",
      "C:\\Users\\ADMIN\\AppData\\Roaming\\Python\\Python312\\site-packages\\sklearn\\base.py:1389: DataConversionWarning: A column-vector y was passed when a 1d array was expected. Please change the shape of y to (n_samples,), for example using ravel().\n",
      "  return fit_method(estimator, *args, **kwargs)\n",
      "C:\\Users\\ADMIN\\AppData\\Roaming\\Python\\Python312\\site-packages\\sklearn\\base.py:1389: DataConversionWarning: A column-vector y was passed when a 1d array was expected. Please change the shape of y to (n_samples,), for example using ravel().\n",
      "  return fit_method(estimator, *args, **kwargs)\n",
      "C:\\Users\\ADMIN\\AppData\\Roaming\\Python\\Python312\\site-packages\\sklearn\\base.py:1389: DataConversionWarning: A column-vector y was passed when a 1d array was expected. Please change the shape of y to (n_samples,), for example using ravel().\n",
      "  return fit_method(estimator, *args, **kwargs)\n",
      "C:\\Users\\ADMIN\\AppData\\Roaming\\Python\\Python312\\site-packages\\sklearn\\base.py:1389: DataConversionWarning: A column-vector y was passed when a 1d array was expected. Please change the shape of y to (n_samples,), for example using ravel().\n",
      "  return fit_method(estimator, *args, **kwargs)\n",
      "C:\\Users\\ADMIN\\AppData\\Roaming\\Python\\Python312\\site-packages\\sklearn\\base.py:1389: DataConversionWarning: A column-vector y was passed when a 1d array was expected. Please change the shape of y to (n_samples,), for example using ravel().\n",
      "  return fit_method(estimator, *args, **kwargs)\n",
      "C:\\Users\\ADMIN\\AppData\\Roaming\\Python\\Python312\\site-packages\\sklearn\\base.py:1389: DataConversionWarning: A column-vector y was passed when a 1d array was expected. Please change the shape of y to (n_samples,), for example using ravel().\n",
      "  return fit_method(estimator, *args, **kwargs)\n",
      "C:\\Users\\ADMIN\\AppData\\Roaming\\Python\\Python312\\site-packages\\sklearn\\base.py:1389: DataConversionWarning: A column-vector y was passed when a 1d array was expected. Please change the shape of y to (n_samples,), for example using ravel().\n",
      "  return fit_method(estimator, *args, **kwargs)\n",
      "C:\\Users\\ADMIN\\AppData\\Roaming\\Python\\Python312\\site-packages\\sklearn\\base.py:1389: DataConversionWarning: A column-vector y was passed when a 1d array was expected. Please change the shape of y to (n_samples,), for example using ravel().\n",
      "  return fit_method(estimator, *args, **kwargs)\n",
      "C:\\Users\\ADMIN\\AppData\\Roaming\\Python\\Python312\\site-packages\\sklearn\\base.py:1389: DataConversionWarning: A column-vector y was passed when a 1d array was expected. Please change the shape of y to (n_samples,), for example using ravel().\n",
      "  return fit_method(estimator, *args, **kwargs)\n"
     ]
    },
    {
     "name": "stdout",
     "output_type": "stream",
     "text": [
      "{'max_depth': 13, 'n_estimators': 137}\n"
     ]
    }
   ],
   "source": [
    "from sklearn.ensemble import RandomForestClassifier\n",
    "\n",
    "rf = RandomForestClassifier(random_state=42)\n",
    "cv_strategy = StratifiedKFold(n_splits=5, shuffle=True, random_state=42)\n",
    "np.random.seed(43)\n",
    "clf = RandomizedSearchCV(rf, param_distributions=param_distributions, random_state=42,  scoring='accuracy',cv=cv_strategy, n_iter=10)\n",
    "sklearn_rdsearch = clf.fit(X_train, y_train)\n",
    "print(sklearn_rdsearch.best_params_)"
   ]
  },
  {
   "cell_type": "code",
   "execution_count": 39,
   "metadata": {},
   "outputs": [
    {
     "name": "stdout",
     "output_type": "stream",
     "text": [
      "   mean_fit_time  std_fit_time  mean_score_time  std_score_time  \\\n",
      "0       0.511050      0.008687         0.032515        0.000248   \n",
      "1       0.303015      0.005141         0.021679        0.000967   \n",
      "2       0.303799      0.005077         0.019813        0.000200   \n",
      "3       0.636774      0.033421         0.041870        0.002223   \n",
      "4       0.279744      0.015025         0.018960        0.000812   \n",
      "5       0.342094      0.007243         0.023883        0.000302   \n",
      "6       0.295213      0.001761         0.020076        0.000452   \n",
      "7       0.507180      0.041229         0.032529        0.003728   \n",
      "8       0.362046      0.019583         0.021956        0.001620   \n",
      "9       0.103837      0.002530         0.008355        0.000659   \n",
      "\n",
      "   param_max_depth  param_n_estimators  \\\n",
      "0                9                 229   \n",
      "1               13                 121   \n",
      "2                7                 152   \n",
      "3               12                 260   \n",
      "4                9                 124   \n",
      "5               13                 137   \n",
      "6                7                 149   \n",
      "7               10                 201   \n",
      "8                5                 199   \n",
      "9                7                  51   \n",
      "\n",
      "                                   params  split0_test_score  \\\n",
      "0   {'max_depth': 9, 'n_estimators': 229}           0.951385   \n",
      "1  {'max_depth': 13, 'n_estimators': 121}           0.963256   \n",
      "2   {'max_depth': 7, 'n_estimators': 152}           0.941775   \n",
      "3  {'max_depth': 12, 'n_estimators': 260}           0.960995   \n",
      "4   {'max_depth': 9, 'n_estimators': 124}           0.950254   \n",
      "5  {'max_depth': 13, 'n_estimators': 137}           0.963821   \n",
      "6   {'max_depth': 7, 'n_estimators': 149}           0.941775   \n",
      "7  {'max_depth': 10, 'n_estimators': 201}           0.954777   \n",
      "8   {'max_depth': 5, 'n_estimators': 199}           0.937818   \n",
      "9    {'max_depth': 7, 'n_estimators': 51}           0.944601   \n",
      "\n",
      "   split1_test_score  split2_test_score  split3_test_score  split4_test_score  \\\n",
      "0           0.943471           0.948559           0.942906           0.949095   \n",
      "1           0.957038           0.962691           0.957603           0.963801   \n",
      "2           0.937253           0.938383           0.932165           0.933824   \n",
      "3           0.955907           0.964387           0.954211           0.963235   \n",
      "4           0.946297           0.946863           0.942906           0.949095   \n",
      "5           0.956473           0.963821           0.957603           0.964932   \n",
      "6           0.936687           0.938383           0.932730           0.933824   \n",
      "7           0.949689           0.953081           0.945167           0.956448   \n",
      "8           0.933296           0.927643           0.923686           0.930995   \n",
      "9           0.933861           0.942340           0.934992           0.928733   \n",
      "\n",
      "   mean_test_score  std_test_score  rank_test_score  \n",
      "0         0.947083        0.003324                5  \n",
      "1         0.960878        0.002931                2  \n",
      "2         0.936680        0.003398                8  \n",
      "3         0.959747        0.004016                3  \n",
      "4         0.947083        0.002539                5  \n",
      "5         0.961330        0.003546                1  \n",
      "6         0.936680        0.003244                8  \n",
      "7         0.951832        0.004014                4  \n",
      "8         0.930688        0.004817               10  \n",
      "9         0.936905        0.005805                7  \n"
     ]
    }
   ],
   "source": [
    "print(pd.DataFrame(sklearn_rdsearch.cv_results_))"
   ]
  },
  {
   "cell_type": "code",
   "execution_count": 42,
   "metadata": {},
   "outputs": [
    {
     "name": "stderr",
     "output_type": "stream",
     "text": [
      "C:\\Users\\ADMIN\\AppData\\Roaming\\Python\\Python312\\site-packages\\sklearn\\base.py:1389: DataConversionWarning: A column-vector y was passed when a 1d array was expected. Please change the shape of y to (n_samples,), for example using ravel().\n",
      "  return fit_method(estimator, *args, **kwargs)\n"
     ]
    },
    {
     "name": "stdout",
     "output_type": "stream",
     "text": [
      "Test accuracy 0.9633649932157394\n"
     ]
    }
   ],
   "source": [
    "rf = RandomForestClassifier(random_state=42)\n",
    "rf.set_params(**sklearn_rdsearch.best_params_)\n",
    "rf.fit(X_train, y_train)\n",
    "y_pred = rf.predict(X_test)\n",
    "print(\"Test accuracy\", accuracy_score(y_test, y_pred))"
   ]
  },
  {
   "cell_type": "markdown",
   "metadata": {},
   "source": [
    "## Kết hợp RandomizedSearch và GridSearch"
   ]
  },
  {
   "cell_type": "code",
   "execution_count": 43,
   "metadata": {},
   "outputs": [],
   "source": [
    "from sklearn.model_selection import RandomizedSearchCV, GridSearchCV\n",
    "\n",
    "# Bước 1: Randomized Search với không gian tham số rộng\n",
    "param_distributions = {\n",
    "    'n_estimators': randint(50, 300),\n",
    "    'max_depth': randint(3, 15)\n",
    "}"
   ]
  },
  {
   "cell_type": "code",
   "execution_count": 49,
   "metadata": {},
   "outputs": [
    {
     "name": "stderr",
     "output_type": "stream",
     "text": [
      "C:\\Users\\ADMIN\\AppData\\Roaming\\Python\\Python312\\site-packages\\sklearn\\base.py:1389: DataConversionWarning: A column-vector y was passed when a 1d array was expected. Please change the shape of y to (n_samples,), for example using ravel().\n",
      "  return fit_method(estimator, *args, **kwargs)\n"
     ]
    },
    {
     "name": "stdout",
     "output_type": "stream",
     "text": [
      "Best parameters from Randomized Search: {'max_depth': 13, 'n_estimators': 137}\n",
      "Best_score 0.9613301223433235\n"
     ]
    }
   ],
   "source": [
    "rf = RandomForestClassifier(random_state=42)\n",
    "cv_strategy = StratifiedKFold(n_splits=5, shuffle=True, random_state=42)\n",
    "random_search = RandomizedSearchCV(\n",
    "    RandomForestClassifier(random_state=42),\n",
    "    param_distributions=param_distributions,\n",
    "    n_iter=10,\n",
    "    cv=cv_strategy,\n",
    "    scoring='accuracy',\n",
    "    random_state=42,\n",
    "    n_jobs=-1\n",
    ")\n",
    "\n",
    "random_search.fit(X_train, y_train)\n",
    "print(\"Best parameters from Randomized Search:\", random_search.best_params_)\n",
    "print(\"Best_score\",random_search.best_score_)\n"
   ]
  },
  {
   "cell_type": "code",
   "execution_count": null,
   "metadata": {},
   "outputs": [],
   "source": [
    "fine_tune_params = {\n",
    "    'n_estimators': np.arange(\n",
    "        max(10, best_params['n_estimators'] - 20),  # Giảm 20 nhưng không nhỏ hơn 10\n",
    "        best_params['n_estimators'] + 21,  # Tăng 20\n",
    "        step=5  # Khoảng cách giữa các giá trị\n",
    "    ).tolist(),\n",
    "    \n",
    "    'max_depth': np.arange(\n",
    "        max(1, best_params['max_depth'] - 3),  # Giảm tối đa 3\n",
    "        best_params['max_depth'] + 4,  # Tăng tối đa 3\n",
    "        step=1\n",
    "    ).tolist()}"
   ]
  }
 ],
 "metadata": {
  "kernelspec": {
   "display_name": "base",
   "language": "python",
   "name": "python3"
  },
  "language_info": {
   "codemirror_mode": {
    "name": "ipython",
    "version": 3
   },
   "file_extension": ".py",
   "mimetype": "text/x-python",
   "name": "python",
   "nbconvert_exporter": "python",
   "pygments_lexer": "ipython3",
   "version": "3.12.3"
  }
 },
 "nbformat": 4,
 "nbformat_minor": 2
}
