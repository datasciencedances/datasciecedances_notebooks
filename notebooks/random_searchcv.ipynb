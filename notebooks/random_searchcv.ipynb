{
 "cells": [
  {
   "cell_type": "code",
   "execution_count": 2,
   "metadata": {},
   "outputs": [],
   "source": [
    "from sklearn.model_selection import train_test_split\n",
    "from ucimlrepo import fetch_ucirepo \n",
    "from sklearn.ensemble import RandomForestClassifier\n",
    "from sklearn.metrics import accuracy_score\n",
    "import numpy as np"
   ]
  },
  {
   "cell_type": "code",
   "execution_count": 3,
   "metadata": {},
   "outputs": [
    {
     "name": "stdout",
     "output_type": "stream",
     "text": [
      "Train size: (6633, 30), Valid size: (2211, 30), Test size: (2211, 30)\n"
     ]
    }
   ],
   "source": [
    "# fetch dataset \n",
    "phishing_websites = fetch_ucirepo(id=327) \n",
    "  \n",
    "# data (as pandas dataframes) \n",
    "X = phishing_websites.data.features \n",
    "y = phishing_websites.data.targets\n",
    "\n",
    "# Chia tập train và test\n",
    "X_train, X_test, y_train, y_test = train_test_split(X, y, test_size=0.2, random_state=42, stratify=y)\n",
    "\n",
    "# Chia tập train và valid\n",
    "X_train, X_valid, y_train, y_valid = train_test_split(X_train, y_train, test_size=0.25, random_state=42, stratify=y_train)\n",
    "\n",
    "print(f\"Train size: {X_train.shape}, Valid size: {X_valid.shape}, Test size: {X_test.shape}\")"
   ]
  },
  {
   "cell_type": "code",
   "execution_count": 12,
   "metadata": {},
   "outputs": [
    {
     "name": "stdout",
     "output_type": "stream",
     "text": [
      "n_estimators=150,\t max_depth=9\n",
      "n_estimators=50,\t max_depth=7\n",
      "n_estimators=150,\t max_depth=9\n",
      "n_estimators=50,\t max_depth=3\n",
      "n_estimators=150,\t max_depth=5\n",
      "n_estimators=150,\t max_depth=7\n",
      "n_estimators=150,\t max_depth=7\n",
      "n_estimators=200,\t max_depth=3\n",
      "n_estimators=200,\t max_depth=9\n",
      "n_estimators=200,\t max_depth=7\n"
     ]
    }
   ],
   "source": [
    "import numpy as np\n",
    "\n",
    "# Đặt seed cho ngẫu nhiên\n",
    "np.random.seed(42)\n",
    "# Định nghĩa không gian tham số, trong bài trước mình dùng list để liệt kê ra cụ thể, trong ví dụ lần này mình dùng np.arrange để sinh ra dãy tham số\n",
    "param_space = {\n",
    "    'n_estimators': np.arange(50, 201, 50),  # [50, 100, 150, 200]\n",
    "    'max_depth': np.arange(3, 11, 2),        # [3, 5, 7, 9]\n",
    "}\n",
    "\n",
    "# Số lần thử ngẫu nhiên\n",
    "n_iter = 10\n",
    "\n",
    "# Tạo các tổ hợp tham số ngẫu nhiên\n",
    "random_params = []\n",
    "for _ in range(n_iter):\n",
    "    params = {\n",
    "        'n_estimators': np.random.choice(param_space['n_estimators']),\n",
    "        'max_depth': np.random.choice(param_space['max_depth'])\n",
    "    }\n",
    "    random_params.append(params)\n",
    "\n",
    "# In ra các tổ hợp được chọn\n",
    "for params in random_params:\n",
    "    print(f\"n_estimators={params['n_estimators']},\\t max_depth={params['max_depth']}\")"
   ]
  },
  {
   "cell_type": "code",
   "execution_count": 13,
   "metadata": {},
   "outputs": [
    {
     "name": "stderr",
     "output_type": "stream",
     "text": [
      "d:\\Vendors\\miniconda\\Lib\\site-packages\\sklearn\\base.py:1473: DataConversionWarning: A column-vector y was passed when a 1d array was expected. Please change the shape of y to (n_samples,), for example using ravel().\n",
      "  return fit_method(estimator, *args, **kwargs)\n"
     ]
    },
    {
     "name": "stdout",
     "output_type": "stream",
     "text": [
      "Parameters: {'n_estimators': np.int64(150), 'max_depth': np.int64(9)}, Accuracy: 0.9466\n"
     ]
    },
    {
     "name": "stderr",
     "output_type": "stream",
     "text": [
      "d:\\Vendors\\miniconda\\Lib\\site-packages\\sklearn\\base.py:1473: DataConversionWarning: A column-vector y was passed when a 1d array was expected. Please change the shape of y to (n_samples,), for example using ravel().\n",
      "  return fit_method(estimator, *args, **kwargs)\n"
     ]
    },
    {
     "name": "stdout",
     "output_type": "stream",
     "text": [
      "Parameters: {'n_estimators': np.int64(50), 'max_depth': np.int64(7)}, Accuracy: 0.9353\n"
     ]
    },
    {
     "name": "stderr",
     "output_type": "stream",
     "text": [
      "d:\\Vendors\\miniconda\\Lib\\site-packages\\sklearn\\base.py:1473: DataConversionWarning: A column-vector y was passed when a 1d array was expected. Please change the shape of y to (n_samples,), for example using ravel().\n",
      "  return fit_method(estimator, *args, **kwargs)\n"
     ]
    },
    {
     "name": "stdout",
     "output_type": "stream",
     "text": [
      "Parameters: {'n_estimators': np.int64(150), 'max_depth': np.int64(9)}, Accuracy: 0.9466\n",
      "Parameters: {'n_estimators': np.int64(50), 'max_depth': np.int64(3)}, Accuracy: 0.9240\n"
     ]
    },
    {
     "name": "stderr",
     "output_type": "stream",
     "text": [
      "d:\\Vendors\\miniconda\\Lib\\site-packages\\sklearn\\base.py:1473: DataConversionWarning: A column-vector y was passed when a 1d array was expected. Please change the shape of y to (n_samples,), for example using ravel().\n",
      "  return fit_method(estimator, *args, **kwargs)\n",
      "d:\\Vendors\\miniconda\\Lib\\site-packages\\sklearn\\base.py:1473: DataConversionWarning: A column-vector y was passed when a 1d array was expected. Please change the shape of y to (n_samples,), for example using ravel().\n",
      "  return fit_method(estimator, *args, **kwargs)\n"
     ]
    },
    {
     "name": "stdout",
     "output_type": "stream",
     "text": [
      "Parameters: {'n_estimators': np.int64(150), 'max_depth': np.int64(5)}, Accuracy: 0.9308\n"
     ]
    },
    {
     "name": "stderr",
     "output_type": "stream",
     "text": [
      "d:\\Vendors\\miniconda\\Lib\\site-packages\\sklearn\\base.py:1473: DataConversionWarning: A column-vector y was passed when a 1d array was expected. Please change the shape of y to (n_samples,), for example using ravel().\n",
      "  return fit_method(estimator, *args, **kwargs)\n"
     ]
    },
    {
     "name": "stdout",
     "output_type": "stream",
     "text": [
      "Parameters: {'n_estimators': np.int64(150), 'max_depth': np.int64(7)}, Accuracy: 0.9349\n"
     ]
    },
    {
     "name": "stderr",
     "output_type": "stream",
     "text": [
      "d:\\Vendors\\miniconda\\Lib\\site-packages\\sklearn\\base.py:1473: DataConversionWarning: A column-vector y was passed when a 1d array was expected. Please change the shape of y to (n_samples,), for example using ravel().\n",
      "  return fit_method(estimator, *args, **kwargs)\n"
     ]
    },
    {
     "name": "stdout",
     "output_type": "stream",
     "text": [
      "Parameters: {'n_estimators': np.int64(150), 'max_depth': np.int64(7)}, Accuracy: 0.9349\n"
     ]
    },
    {
     "name": "stderr",
     "output_type": "stream",
     "text": [
      "d:\\Vendors\\miniconda\\Lib\\site-packages\\sklearn\\base.py:1473: DataConversionWarning: A column-vector y was passed when a 1d array was expected. Please change the shape of y to (n_samples,), for example using ravel().\n",
      "  return fit_method(estimator, *args, **kwargs)\n"
     ]
    },
    {
     "name": "stdout",
     "output_type": "stream",
     "text": [
      "Parameters: {'n_estimators': np.int64(200), 'max_depth': np.int64(3)}, Accuracy: 0.9254\n"
     ]
    },
    {
     "name": "stderr",
     "output_type": "stream",
     "text": [
      "d:\\Vendors\\miniconda\\Lib\\site-packages\\sklearn\\base.py:1473: DataConversionWarning: A column-vector y was passed when a 1d array was expected. Please change the shape of y to (n_samples,), for example using ravel().\n",
      "  return fit_method(estimator, *args, **kwargs)\n"
     ]
    },
    {
     "name": "stdout",
     "output_type": "stream",
     "text": [
      "Parameters: {'n_estimators': np.int64(200), 'max_depth': np.int64(9)}, Accuracy: 0.9466\n"
     ]
    },
    {
     "name": "stderr",
     "output_type": "stream",
     "text": [
      "d:\\Vendors\\miniconda\\Lib\\site-packages\\sklearn\\base.py:1473: DataConversionWarning: A column-vector y was passed when a 1d array was expected. Please change the shape of y to (n_samples,), for example using ravel().\n",
      "  return fit_method(estimator, *args, **kwargs)\n"
     ]
    },
    {
     "name": "stdout",
     "output_type": "stream",
     "text": [
      "Parameters: {'n_estimators': np.int64(200), 'max_depth': np.int64(7)}, Accuracy: 0.9344\n",
      "\n",
      "Best Parameters: {'n_estimators': np.int64(150), 'max_depth': np.int64(9)}\n",
      "Best Model Accuracy on Valid Set: 0.9466304839439168\n"
     ]
    }
   ],
   "source": [
    "# Lưu kết quả\n",
    "best_score = 0\n",
    "best_params = None\n",
    "best_model = None\n",
    "\n",
    "# Thử từng bộ tham số ngẫu nhiên\n",
    "for params in random_params:\n",
    "    # Train model\n",
    "    model = RandomForestClassifier(**params, random_state=42)\n",
    "    model.fit(X_train, y_train)\n",
    "    \n",
    "    # Dự đoán và đánh giá\n",
    "    y_pred = model.predict(X_valid)\n",
    "    accuracy = accuracy_score(y_valid, y_pred)\n",
    "    \n",
    "    print(f\"Parameters: {params}, Accuracy: {accuracy:.4f}\")\n",
    "    \n",
    "    # Lưu lại bộ tham số tốt nhất\n",
    "    if accuracy > best_score:\n",
    "        best_score = accuracy\n",
    "        best_params = params\n",
    "        best_model = model\n",
    "\n",
    "# In kết quả tốt nhất\n",
    "print(\"\\nBest Parameters:\", best_params)\n",
    "print(\"Best Model Accuracy on Valid Set:\", best_score)"
   ]
  },
  {
   "cell_type": "code",
   "execution_count": 14,
   "metadata": {},
   "outputs": [
    {
     "name": "stderr",
     "output_type": "stream",
     "text": [
      "d:\\Vendors\\miniconda\\Lib\\site-packages\\sklearn\\base.py:1473: DataConversionWarning: A column-vector y was passed when a 1d array was expected. Please change the shape of y to (n_samples,), for example using ravel().\n",
      "  return fit_method(estimator, *args, **kwargs)\n"
     ]
    },
    {
     "name": "stdout",
     "output_type": "stream",
     "text": [
      "Default Model Accuracy on Valid Set: 0.9706\n",
      "Default Model Accuracy on Test Set: 0.9738\n"
     ]
    }
   ],
   "source": [
    "# Huấn luyện mô hình với tham số mặc định\n",
    "default_model = RandomForestClassifier(random_state=42)\n",
    "default_model.fit(X_train, y_train)\n",
    "\n",
    "# Đánh giá trên tập validation\n",
    "y_pred_valid = default_model.predict(X_valid)\n",
    "valid_accuracy = accuracy_score(y_valid, y_pred_valid)\n",
    "print(f\"Default Model Accuracy on Valid Set: {valid_accuracy:.4f}\")\n",
    "\n",
    "# Đánh giá trên tập test\n",
    "y_pred_test = default_model.predict(X_test)\n",
    "test_accuracy = accuracy_score(y_test, y_pred_test)\n",
    "print(f\"Default Model Accuracy on Test Set: {test_accuracy:.4f}\")"
   ]
  }
 ],
 "metadata": {
  "kernelspec": {
   "display_name": "base",
   "language": "python",
   "name": "python3"
  },
  "language_info": {
   "codemirror_mode": {
    "name": "ipython",
    "version": 3
   },
   "file_extension": ".py",
   "mimetype": "text/x-python",
   "name": "python",
   "nbconvert_exporter": "python",
   "pygments_lexer": "ipython3",
   "version": "3.12.3"
  }
 },
 "nbformat": 4,
 "nbformat_minor": 2
}
