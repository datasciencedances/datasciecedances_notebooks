{
 "cells": [
  {
   "cell_type": "code",
   "execution_count": null,
   "metadata": {},
   "outputs": [
    {
     "name": "stdout",
     "output_type": "stream",
     "text": [
      "Train size: (8844, 30), Test size: (2211, 30)\n"
     ]
    }
   ],
   "source": [
    "from sklearn.model_selection import train_test_split, RandomizedSearchCV\n",
    "from ucimlrepo import fetch_ucirepo \n",
    "from sklearn.ensemble import RandomForestClassifier\n",
    "from sklearn.metrics import accuracy_score\n",
    "import numpy as np\n",
    "\n",
    "# fetch dataset \n",
    "phishing_websites = fetch_ucirepo(id=327) \n",
    "  \n",
    "# data (as pandas dataframes) \n",
    "X = phishing_websites.data.features \n",
    "y = phishing_websites.data.targets\n",
    "\n",
    "# Chia tập train và test\n",
    "X_train, X_test, y_train, y_test = train_test_split(X, y, test_size=0.2, random_state=42, stratify=y)\n",
    "\n",
    "print(f\"Train size: {X_train.shape}, Test size: {X_test.shape}\")"
   ]
  },
  {
   "cell_type": "code",
   "execution_count": null,
   "metadata": {},
   "outputs": [],
   "source": []
  },
  {
   "cell_type": "code",
   "execution_count": 64,
   "metadata": {},
   "outputs": [],
   "source": [
    "\n",
    "from scipy.stats import randint, uniform\n",
    "\n",
    "param_distributions = {\n",
    "    'n_estimators': randint(50, 300),\n",
    "    'max_depth': randint(3, 15)\n",
    "}\n"
   ]
  },
  {
   "cell_type": "code",
   "execution_count": 67,
   "metadata": {},
   "outputs": [],
   "source": [
    "from sklearn.model_selection import StratifiedKFold\n",
    "from sklearn.metrics import accuracy_score\n",
    "from scipy.stats import randint, uniform\n",
    "\n",
    "class RandomizedSearchCV_from_scratch:\n",
    "    def __init__(self, estimator, param_distributions, n_iter=10, cv=5, random_state=None):\n",
    "        self.estimator = estimator  # Mô hình cần tối ưu hóa\n",
    "        self.param_distributions = param_distributions  # Phân phối tham số\n",
    "        self.n_iter = n_iter  # Số lần thử nghiệm\n",
    "        self.cv = cv  # Số fold cho cross-validation\n",
    "        self.random_state = random_state  # Seed cho tái lập\n",
    "\n",
    "        # Thiết lập seed nếu cần\n",
    "        if self.random_state is not None:\n",
    "            np.random.seed(self.random_state)\n",
    "\n",
    "    def sample_params(self):\n",
    "        \"\"\"\n",
    "        Lấy mẫu ngẫu nhiên các tham số từ phân phối đã cho.\n",
    "        \"\"\"\n",
    "        sampled_params = {}\n",
    "        for param, dist in self.param_distributions.items():\n",
    "            if isinstance(dist, list):  # Nếu là danh sách, lấy ngẫu nhiên\n",
    "                sampled_params[param] = np.random.choice(dist)\n",
    "            else:  # Nếu là phân phối xác suất, lấy mẫu từ đó\n",
    "                sampled_params[param] = dist.rvs()\n",
    "        return sampled_params\n",
    "\n",
    "    def cross_val_score(self, X, y, params):\n",
    "        \"\"\"\n",
    "        Thực hiện cross-validation (StratifiedKFold) để tính điểm cho mô hình với tham số đã cho.\n",
    "        \"\"\"\n",
    "        skf = StratifiedKFold(n_splits=self.cv, shuffle=True, random_state=self.random_state)\n",
    "        scores = []\n",
    "\n",
    "        # Chạy CV\n",
    "        for train_idx, valid_idx in skf.split(X, y):\n",
    "            _X_train, _X_valid = X.iloc[train_idx], X.iloc[valid_idx]\n",
    "            _y_train, _y_valid = y.iloc[train_idx], y.iloc[valid_idx]\n",
    "\n",
    "            # Huấn luyện mô hình với tham số đã chọn\n",
    "            self.estimator.set_params(**params)\n",
    "            self.estimator.fit(_X_train, _y_train)\n",
    "\n",
    "            # Dự đoán và tính điểm accuracy\n",
    "            y_pred = self.estimator.predict(_X_valid)\n",
    "            score = accuracy_score(_y_valid, y_pred)\n",
    "            scores.append(score)\n",
    "\n",
    "        return np.mean(scores)  # Trả về điểm số trung bình của tất cả các fold\n",
    "\n",
    "    def fit(self, X, y):\n",
    "        \"\"\"\n",
    "        Tiến hành tìm kiếm ngẫu nhiên các tham số và huấn luyện mô hình với Cross-Validation.\n",
    "        \"\"\"\n",
    "        best_score = -np.inf\n",
    "        best_params = None\n",
    "        results = []\n",
    "\n",
    "        for i in range(self.n_iter):\n",
    "            # Lấy mẫu các tham số\n",
    "            sampled_params = self.sample_params()\n",
    "\n",
    "            # Tính điểm cho tham số hiện tại với Cross-Validation\n",
    "            score = self.cross_val_score(X, y, sampled_params)\n",
    "\n",
    "            results.append({'params': sampled_params, 'score': score})\n",
    "\n",
    "            # Cập nhật nếu điểm số hiện tại là tốt nhất\n",
    "            if score > best_score:\n",
    "                best_score = score\n",
    "                best_params = sampled_params\n",
    "\n",
    "        # Lưu kết quả và trả về tham số tốt nhất\n",
    "        self.results_ = results\n",
    "        self.best_score_ = best_score\n",
    "        self.best_params_ = best_params\n",
    "\n",
    "    def get_results(self):\n",
    "        \"\"\"\n",
    "        Trả về tất cả kết quả tìm kiếm.\n",
    "        \"\"\"\n",
    "        return self.results_"
   ]
  },
  {
   "cell_type": "code",
   "execution_count": 71,
   "metadata": {},
   "outputs": [],
   "source": [
    "rf = RandomForestClassifier(random_state=42)"
   ]
  },
  {
   "cell_type": "code",
   "execution_count": 72,
   "metadata": {},
   "outputs": [
    {
     "ename": "KeyError",
     "evalue": "\"None of [Index([   1,    2,    3,    4,    5,    6,    7,    8,   10,   12,\\n       ...\\n       8832, 8833, 8834, 8835, 8838, 8839, 8840, 8841, 8842, 8843],\\n      dtype='int32', length=7075)] are in the [columns]\"",
     "output_type": "error",
     "traceback": [
      "\u001b[1;31m---------------------------------------------------------------------------\u001b[0m",
      "\u001b[1;31mKeyError\u001b[0m                                  Traceback (most recent call last)",
      "Cell \u001b[1;32mIn[72], line 2\u001b[0m\n\u001b[0;32m      1\u001b[0m search \u001b[38;5;241m=\u001b[39m RandomizedSearchCV_from_scratch(rf, param_distributions, n_iter\u001b[38;5;241m=\u001b[39m\u001b[38;5;241m10\u001b[39m, cv\u001b[38;5;241m=\u001b[39m\u001b[38;5;241m5\u001b[39m, random_state\u001b[38;5;241m=\u001b[39m\u001b[38;5;241m42\u001b[39m)\n\u001b[1;32m----> 2\u001b[0m \u001b[43msearch\u001b[49m\u001b[38;5;241;43m.\u001b[39;49m\u001b[43mfit\u001b[49m\u001b[43m(\u001b[49m\u001b[43mX_train\u001b[49m\u001b[43m,\u001b[49m\u001b[43m \u001b[49m\u001b[43my_train\u001b[49m\u001b[43m)\u001b[49m\n",
      "Cell \u001b[1;32mIn[67], line 65\u001b[0m, in \u001b[0;36mRandomizedSearchCV_from_scratch.fit\u001b[1;34m(self, X, y)\u001b[0m\n\u001b[0;32m     62\u001b[0m sampled_params \u001b[38;5;241m=\u001b[39m \u001b[38;5;28mself\u001b[39m\u001b[38;5;241m.\u001b[39msample_params()\n\u001b[0;32m     64\u001b[0m \u001b[38;5;66;03m# Tính điểm cho tham số hiện tại với Cross-Validation\u001b[39;00m\n\u001b[1;32m---> 65\u001b[0m score \u001b[38;5;241m=\u001b[39m \u001b[38;5;28;43mself\u001b[39;49m\u001b[38;5;241;43m.\u001b[39;49m\u001b[43mcross_val_score\u001b[49m\u001b[43m(\u001b[49m\u001b[43mX\u001b[49m\u001b[43m,\u001b[49m\u001b[43m \u001b[49m\u001b[43my\u001b[49m\u001b[43m,\u001b[49m\u001b[43m \u001b[49m\u001b[43msampled_params\u001b[49m\u001b[43m)\u001b[49m\n\u001b[0;32m     67\u001b[0m results\u001b[38;5;241m.\u001b[39mappend({\u001b[38;5;124m'\u001b[39m\u001b[38;5;124mparams\u001b[39m\u001b[38;5;124m'\u001b[39m: sampled_params, \u001b[38;5;124m'\u001b[39m\u001b[38;5;124mscore\u001b[39m\u001b[38;5;124m'\u001b[39m: score})\n\u001b[0;32m     69\u001b[0m \u001b[38;5;66;03m# Cập nhật nếu điểm số hiện tại là tốt nhất\u001b[39;00m\n",
      "Cell \u001b[1;32mIn[67], line 38\u001b[0m, in \u001b[0;36mRandomizedSearchCV_from_scratch.cross_val_score\u001b[1;34m(self, X, y, params)\u001b[0m\n\u001b[0;32m     36\u001b[0m \u001b[38;5;66;03m# Chạy CV\u001b[39;00m\n\u001b[0;32m     37\u001b[0m \u001b[38;5;28;01mfor\u001b[39;00m train_idx, valid_idx \u001b[38;5;129;01min\u001b[39;00m skf\u001b[38;5;241m.\u001b[39msplit(X, y):\n\u001b[1;32m---> 38\u001b[0m     _X_train, _X_valid \u001b[38;5;241m=\u001b[39m \u001b[43mX\u001b[49m\u001b[43m[\u001b[49m\u001b[43mtrain_idx\u001b[49m\u001b[43m]\u001b[49m, X[valid_idx]\n\u001b[0;32m     39\u001b[0m     _y_train, _y_valid \u001b[38;5;241m=\u001b[39m y[train_idx], y[valid_idx]\n\u001b[0;32m     41\u001b[0m     \u001b[38;5;66;03m# Huấn luyện mô hình với tham số đã chọn\u001b[39;00m\n",
      "File \u001b[1;32md:\\Vendors\\miniconda\\Lib\\site-packages\\pandas\\core\\frame.py:4108\u001b[0m, in \u001b[0;36mDataFrame.__getitem__\u001b[1;34m(self, key)\u001b[0m\n\u001b[0;32m   4106\u001b[0m     \u001b[38;5;28;01mif\u001b[39;00m is_iterator(key):\n\u001b[0;32m   4107\u001b[0m         key \u001b[38;5;241m=\u001b[39m \u001b[38;5;28mlist\u001b[39m(key)\n\u001b[1;32m-> 4108\u001b[0m     indexer \u001b[38;5;241m=\u001b[39m \u001b[38;5;28;43mself\u001b[39;49m\u001b[38;5;241;43m.\u001b[39;49m\u001b[43mcolumns\u001b[49m\u001b[38;5;241;43m.\u001b[39;49m\u001b[43m_get_indexer_strict\u001b[49m\u001b[43m(\u001b[49m\u001b[43mkey\u001b[49m\u001b[43m,\u001b[49m\u001b[43m \u001b[49m\u001b[38;5;124;43m\"\u001b[39;49m\u001b[38;5;124;43mcolumns\u001b[39;49m\u001b[38;5;124;43m\"\u001b[39;49m\u001b[43m)\u001b[49m[\u001b[38;5;241m1\u001b[39m]\n\u001b[0;32m   4110\u001b[0m \u001b[38;5;66;03m# take() does not accept boolean indexers\u001b[39;00m\n\u001b[0;32m   4111\u001b[0m \u001b[38;5;28;01mif\u001b[39;00m \u001b[38;5;28mgetattr\u001b[39m(indexer, \u001b[38;5;124m\"\u001b[39m\u001b[38;5;124mdtype\u001b[39m\u001b[38;5;124m\"\u001b[39m, \u001b[38;5;28;01mNone\u001b[39;00m) \u001b[38;5;241m==\u001b[39m \u001b[38;5;28mbool\u001b[39m:\n",
      "File \u001b[1;32md:\\Vendors\\miniconda\\Lib\\site-packages\\pandas\\core\\indexes\\base.py:6200\u001b[0m, in \u001b[0;36mIndex._get_indexer_strict\u001b[1;34m(self, key, axis_name)\u001b[0m\n\u001b[0;32m   6197\u001b[0m \u001b[38;5;28;01melse\u001b[39;00m:\n\u001b[0;32m   6198\u001b[0m     keyarr, indexer, new_indexer \u001b[38;5;241m=\u001b[39m \u001b[38;5;28mself\u001b[39m\u001b[38;5;241m.\u001b[39m_reindex_non_unique(keyarr)\n\u001b[1;32m-> 6200\u001b[0m \u001b[38;5;28;43mself\u001b[39;49m\u001b[38;5;241;43m.\u001b[39;49m\u001b[43m_raise_if_missing\u001b[49m\u001b[43m(\u001b[49m\u001b[43mkeyarr\u001b[49m\u001b[43m,\u001b[49m\u001b[43m \u001b[49m\u001b[43mindexer\u001b[49m\u001b[43m,\u001b[49m\u001b[43m \u001b[49m\u001b[43maxis_name\u001b[49m\u001b[43m)\u001b[49m\n\u001b[0;32m   6202\u001b[0m keyarr \u001b[38;5;241m=\u001b[39m \u001b[38;5;28mself\u001b[39m\u001b[38;5;241m.\u001b[39mtake(indexer)\n\u001b[0;32m   6203\u001b[0m \u001b[38;5;28;01mif\u001b[39;00m \u001b[38;5;28misinstance\u001b[39m(key, Index):\n\u001b[0;32m   6204\u001b[0m     \u001b[38;5;66;03m# GH 42790 - Preserve name from an Index\u001b[39;00m\n",
      "File \u001b[1;32md:\\Vendors\\miniconda\\Lib\\site-packages\\pandas\\core\\indexes\\base.py:6249\u001b[0m, in \u001b[0;36mIndex._raise_if_missing\u001b[1;34m(self, key, indexer, axis_name)\u001b[0m\n\u001b[0;32m   6247\u001b[0m \u001b[38;5;28;01mif\u001b[39;00m nmissing:\n\u001b[0;32m   6248\u001b[0m     \u001b[38;5;28;01mif\u001b[39;00m nmissing \u001b[38;5;241m==\u001b[39m \u001b[38;5;28mlen\u001b[39m(indexer):\n\u001b[1;32m-> 6249\u001b[0m         \u001b[38;5;28;01mraise\u001b[39;00m \u001b[38;5;167;01mKeyError\u001b[39;00m(\u001b[38;5;124mf\u001b[39m\u001b[38;5;124m\"\u001b[39m\u001b[38;5;124mNone of [\u001b[39m\u001b[38;5;132;01m{\u001b[39;00mkey\u001b[38;5;132;01m}\u001b[39;00m\u001b[38;5;124m] are in the [\u001b[39m\u001b[38;5;132;01m{\u001b[39;00maxis_name\u001b[38;5;132;01m}\u001b[39;00m\u001b[38;5;124m]\u001b[39m\u001b[38;5;124m\"\u001b[39m)\n\u001b[0;32m   6251\u001b[0m     not_found \u001b[38;5;241m=\u001b[39m \u001b[38;5;28mlist\u001b[39m(ensure_index(key)[missing_mask\u001b[38;5;241m.\u001b[39mnonzero()[\u001b[38;5;241m0\u001b[39m]]\u001b[38;5;241m.\u001b[39munique())\n\u001b[0;32m   6252\u001b[0m     \u001b[38;5;28;01mraise\u001b[39;00m \u001b[38;5;167;01mKeyError\u001b[39;00m(\u001b[38;5;124mf\u001b[39m\u001b[38;5;124m\"\u001b[39m\u001b[38;5;132;01m{\u001b[39;00mnot_found\u001b[38;5;132;01m}\u001b[39;00m\u001b[38;5;124m not in index\u001b[39m\u001b[38;5;124m\"\u001b[39m)\n",
      "\u001b[1;31mKeyError\u001b[0m: \"None of [Index([   1,    2,    3,    4,    5,    6,    7,    8,   10,   12,\\n       ...\\n       8832, 8833, 8834, 8835, 8838, 8839, 8840, 8841, 8842, 8843],\\n      dtype='int32', length=7075)] are in the [columns]\""
     ]
    }
   ],
   "source": [
    "\n",
    "search = RandomizedSearchCV_from_scratch(rf, param_distributions, n_iter=10, cv=5, random_state=42)\n",
    "search.fit(X_train, y_train)"
   ]
  },
  {
   "cell_type": "code",
   "execution_count": null,
   "metadata": {},
   "outputs": [],
   "source": []
  }
 ],
 "metadata": {
  "kernelspec": {
   "display_name": "base",
   "language": "python",
   "name": "python3"
  },
  "language_info": {
   "codemirror_mode": {
    "name": "ipython",
    "version": 3
   },
   "file_extension": ".py",
   "mimetype": "text/x-python",
   "name": "python",
   "nbconvert_exporter": "python",
   "pygments_lexer": "ipython3",
   "version": "3.12.3"
  }
 },
 "nbformat": 4,
 "nbformat_minor": 2
}
